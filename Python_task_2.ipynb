{
 "cells": [
  {
   "cell_type": "markdown",
   "id": "cf237574",
   "metadata": {},
   "source": [
    "# Python Task 2\n",
    "Question 1: Distance Matrix Calculation\n",
    "Create a function named calculate_distance_matrix that takes the dataset-3.csv as input and generates a DataFrame representing distances between IDs.\n",
    "\n",
    "The resulting DataFrame should have cumulative distances along known routes, with diagonal values set to 0. If distances between toll locations A to B and B to C are known, then the distance from A to C should be the sum of these distances. Ensure the matrix is symmetric, accounting for bidirectional distances between toll locations (i.e. A to B is equal to B to A)."
   ]
  },
  {
   "cell_type": "code",
   "execution_count": 43,
   "id": "0014a555",
   "metadata": {},
   "outputs": [
    {
     "name": "stdout",
     "output_type": "stream",
     "text": [
      "         1001400  1001402  1001404  1001406  1001408  1001410  1001412  \\\n",
      "1001400      0.0      9.7      0.0      0.0      0.0      0.0      0.0   \n",
      "1001402      9.7      0.0     20.2      0.0      0.0      0.0      0.0   \n",
      "1001404      0.0     20.2      0.0     16.0      0.0      0.0      0.0   \n",
      "1001406      0.0      0.0     16.0      0.0     21.7      0.0      0.0   \n",
      "1001408      0.0      0.0      0.0     21.7      0.0     11.1      0.0   \n",
      "1001410      0.0      0.0      0.0      0.0     11.1      0.0     15.6   \n",
      "1001412      0.0      0.0      0.0      0.0      0.0     15.6      0.0   \n",
      "1001414      0.0      0.0      0.0      0.0      0.0      0.0     18.2   \n",
      "1001416      0.0      0.0      0.0      0.0      0.0      0.0      0.0   \n",
      "1001418      0.0      0.0      0.0      0.0      0.0      0.0      0.0   \n",
      "1001420      0.0      0.0      0.0      0.0      0.0      0.0      0.0   \n",
      "1001422      0.0      0.0      0.0      0.0      0.0      0.0      0.0   \n",
      "1001424      0.0      0.0      0.0      0.0      0.0      0.0      0.0   \n",
      "1001426      0.0      0.0      0.0      0.0      0.0      0.0      0.0   \n",
      "1001428      0.0      0.0      0.0      0.0      0.0      0.0      0.0   \n",
      "1001430      0.0      0.0      0.0      0.0      0.0      0.0      0.0   \n",
      "1001432      0.0      0.0      0.0      0.0      0.0      0.0      0.0   \n",
      "1001434      0.0      0.0      0.0      0.0      0.0      0.0      0.0   \n",
      "1001436      0.0      0.0      0.0      0.0      0.0      0.0      0.0   \n",
      "1001437      0.0      0.0      0.0      0.0      0.0      0.0      0.0   \n",
      "1001438      0.0      0.0      0.0      0.0      0.0      0.0      0.0   \n",
      "1001440      0.0      0.0      0.0      0.0      0.0      0.0      0.0   \n",
      "1001442      0.0      0.0      0.0      0.0      0.0      0.0      0.0   \n",
      "1001444      0.0      0.0      0.0      0.0      0.0      0.0      0.0   \n",
      "1001446      0.0      0.0      0.0      0.0      0.0      0.0      0.0   \n",
      "1001448      0.0      0.0      0.0      0.0      0.0      0.0      0.0   \n",
      "1001450      0.0      0.0      0.0      0.0      0.0      0.0      0.0   \n",
      "1001452      0.0      0.0      0.0      0.0      0.0      0.0      0.0   \n",
      "1001454      0.0      0.0      0.0      0.0      0.0      0.0      0.0   \n",
      "1001456      0.0      0.0      0.0      0.0      0.0      0.0      0.0   \n",
      "1001458      0.0      0.0      0.0      0.0      0.0      0.0      0.0   \n",
      "1001460      0.0      0.0      0.0      0.0      0.0      0.0      0.0   \n",
      "1001461      0.0      0.0      0.0      0.0      0.0      0.0      0.0   \n",
      "1001462      0.0      0.0      0.0      0.0      0.0      0.0      0.0   \n",
      "1001464      0.0      0.0      0.0      0.0      0.0      0.0      0.0   \n",
      "1001466      0.0      0.0      0.0      0.0      0.0      0.0      0.0   \n",
      "1001468      0.0      0.0      0.0      0.0      0.0      0.0      0.0   \n",
      "1001470      0.0      0.0      0.0      0.0      0.0      0.0      0.0   \n",
      "1001472      0.0      0.0      0.0      0.0      0.0      0.0      0.0   \n",
      "1001488      0.0      0.0      0.0      0.0      0.0      0.0      0.0   \n",
      "1004354      0.0      0.0      0.0      0.0      0.0      0.0      0.0   \n",
      "1004355      0.0      0.0      0.0      0.0      0.0      0.0      0.0   \n",
      "1004356      0.0      0.0      0.0      0.0      0.0      0.0      0.0   \n",
      "\n",
      "         1001414  1001416  1001418  ...  1001462  1001464  1001466  1001468  \\\n",
      "1001400      0.0      0.0      0.0  ...      0.0      0.0      0.0      0.0   \n",
      "1001402      0.0      0.0      0.0  ...      0.0      0.0      0.0      0.0   \n",
      "1001404      0.0      0.0      0.0  ...      0.0      0.0      0.0      0.0   \n",
      "1001406      0.0      0.0      0.0  ...      0.0      0.0      0.0      0.0   \n",
      "1001408      0.0      0.0      0.0  ...      0.0      0.0      0.0      0.0   \n",
      "1001410      0.0      0.0      0.0  ...      0.0      0.0      0.0      0.0   \n",
      "1001412     18.2      0.0      0.0  ...      0.0      0.0      0.0      0.0   \n",
      "1001414      0.0     13.2      0.0  ...      0.0      0.0      0.0      0.0   \n",
      "1001416     13.2      0.0     13.6  ...      0.0      0.0      0.0      0.0   \n",
      "1001418      0.0     13.6      0.0  ...      0.0      0.0      0.0      0.0   \n",
      "1001420      0.0      0.0     12.9  ...      0.0      0.0      0.0      0.0   \n",
      "1001422      0.0      0.0      0.0  ...      0.0      0.0      0.0      0.0   \n",
      "1001424      0.0      0.0      0.0  ...      0.0      0.0      0.0      0.0   \n",
      "1001426      0.0      0.0      0.0  ...      0.0      0.0      0.0      0.0   \n",
      "1001428      0.0      0.0      0.0  ...      0.0      0.0      0.0      0.0   \n",
      "1001430      0.0      0.0      0.0  ...      0.0      0.0      0.0      0.0   \n",
      "1001432      0.0      0.0      0.0  ...      0.0      0.0      0.0      0.0   \n",
      "1001434      0.0      0.0      0.0  ...      0.0      0.0      0.0      0.0   \n",
      "1001436      0.0      0.0      0.0  ...      0.0      0.0      0.0      0.0   \n",
      "1001437      0.0      0.0      0.0  ...      0.0      0.0      0.0      0.0   \n",
      "1001438      0.0      0.0      0.0  ...      0.0      0.0      0.0      0.0   \n",
      "1001440      0.0      0.0      0.0  ...      0.0      0.0      0.0      0.0   \n",
      "1001442      0.0      0.0      0.0  ...      0.0      0.0      0.0      0.0   \n",
      "1001444      0.0      0.0      0.0  ...      0.0      0.0      0.0      0.0   \n",
      "1001446      0.0      0.0      0.0  ...      0.0      0.0      0.0      0.0   \n",
      "1001448      0.0      0.0      0.0  ...      0.0      0.0      0.0      0.0   \n",
      "1001450      0.0      0.0      0.0  ...      0.0      0.0      0.0      0.0   \n",
      "1001452      0.0      0.0      0.0  ...      0.0      0.0      0.0      0.0   \n",
      "1001454      0.0      0.0      0.0  ...      0.0      0.0      0.0      0.0   \n",
      "1001456      0.0      0.0      0.0  ...      0.0      0.0      0.0      0.0   \n",
      "1001458      0.0      0.0      0.0  ...      0.0      0.0      0.0      0.0   \n",
      "1001460      0.0      0.0      0.0  ...     17.9      0.0      0.0      0.0   \n",
      "1001461      0.0      0.0      0.0  ...      5.1      0.0      0.0      0.0   \n",
      "1001462      0.0      0.0      0.0  ...      0.0     26.7      0.0      0.0   \n",
      "1001464      0.0      0.0      0.0  ...     26.7      0.0      8.5      0.0   \n",
      "1001466      0.0      0.0      0.0  ...      0.0      8.5      0.0     10.7   \n",
      "1001468      0.0      0.0      0.0  ...      0.0      0.0     10.7      0.0   \n",
      "1001470      0.0      0.0      0.0  ...      0.0      0.0      0.0     10.6   \n",
      "1001472      0.0      0.0      0.0  ...      0.0      0.0      0.0      0.0   \n",
      "1001488      0.0      0.0      0.0  ...      0.0      0.0      0.0      0.0   \n",
      "1004354      0.0      0.0      0.0  ...      0.0      0.0      0.0      0.0   \n",
      "1004355      0.0      0.0      0.0  ...      0.0      0.0      0.0      0.0   \n",
      "1004356      0.0      0.0      0.0  ...      0.0      0.0      0.0      0.0   \n",
      "\n",
      "         1001470  1001472  1001488  1004354  1004355  1004356  \n",
      "1001400      0.0      0.0      0.0      0.0      0.0      0.0  \n",
      "1001402      0.0      0.0      0.0      0.0      0.0      0.0  \n",
      "1001404      0.0      0.0      0.0      0.0      0.0      0.0  \n",
      "1001406      0.0      0.0      0.0      0.0      0.0      0.0  \n",
      "1001408      0.0      0.0      0.0      0.0      0.0      0.0  \n",
      "1001410      0.0      0.0      0.0      0.0      0.0      0.0  \n",
      "1001412      0.0      0.0      0.0      0.0      0.0      0.0  \n",
      "1001414      0.0      0.0      0.0      0.0      0.0      0.0  \n",
      "1001416      0.0      0.0      0.0      0.0      0.0      0.0  \n",
      "1001418      0.0      0.0      0.0      0.0      0.0      0.0  \n",
      "1001420      0.0      0.0      0.0      0.0      0.0      0.0  \n",
      "1001422      0.0      0.0      0.0      0.0      0.0      0.0  \n",
      "1001424      0.0      0.0      0.0      0.0      0.0      0.0  \n",
      "1001426      0.0      0.0      0.0      0.0      0.0      0.0  \n",
      "1001428      0.0      0.0      0.0      0.0      0.0      0.0  \n",
      "1001430      0.0      0.0      0.0      0.0      0.0      0.0  \n",
      "1001432      0.0      0.0      0.0      0.0      0.0      0.0  \n",
      "1001434      0.0      0.0      0.0      0.0      0.0      0.0  \n",
      "1001436      0.0      0.0      0.0      0.0      0.0      0.0  \n",
      "1001437      0.0      0.0      0.0      0.0      0.0      0.0  \n",
      "1001438      0.0      0.0      0.0      0.0      0.0      0.0  \n",
      "1001440      0.0      0.0      0.0      0.0      0.0      0.0  \n",
      "1001442      0.0      0.0      4.5      0.0      0.0      0.0  \n",
      "1001444      0.0      0.0      0.0      0.0      0.7      0.0  \n",
      "1001446      0.0      0.0      0.0      0.0      0.0      0.0  \n",
      "1001448      0.0      0.0      0.0      0.0      0.0      0.0  \n",
      "1001450      0.0      0.0      0.0      0.0      0.0      0.0  \n",
      "1001452      0.0      0.0      0.0      0.0      0.0      0.0  \n",
      "1001454      0.0      0.0      0.0      0.0      0.0      0.0  \n",
      "1001456      0.0      0.0      0.0      0.0      0.0      0.0  \n",
      "1001458      0.0      0.0      0.0      0.0      0.0      0.0  \n",
      "1001460      0.0      0.0      0.0      0.0      0.0      0.0  \n",
      "1001461      0.0      0.0      0.0      0.0      0.0      0.0  \n",
      "1001462      0.0      0.0      0.0      0.0      0.0      0.0  \n",
      "1001464      0.0      0.0      0.0      0.0      0.0      0.0  \n",
      "1001466      0.0      0.0      0.0      0.0      0.0      0.0  \n",
      "1001468     10.6      0.0      0.0      0.0      0.0      0.0  \n",
      "1001470      0.0     16.0      0.0      0.0      0.0      0.0  \n",
      "1001472     16.0      0.0      0.0      0.0      0.0      0.0  \n",
      "1001488      0.0      0.0      0.0      0.0      0.0      4.0  \n",
      "1004354      0.0      0.0      0.0      0.0      2.0      2.0  \n",
      "1004355      0.0      0.0      0.0      2.0      0.0      0.0  \n",
      "1004356      0.0      0.0      4.0      2.0      0.0      0.0  \n",
      "\n",
      "[43 rows x 43 columns]\n"
     ]
    }
   ],
   "source": [
    "def calculate_distance_matrix(dataset_path):\n",
    "    \n",
    "    dataset = pd.read_csv(dataset_path)\n",
    "\n",
    "    unique_ids = sorted(set(dataset['id_start'].unique()) | set(dataset['id_end'].unique()))\n",
    "\n",
    "    distance_matrix = pd.DataFrame(index=unique_ids, columns=unique_ids).fillna(0)\n",
    "\n",
    "    for _, row in dataset.iterrows():\n",
    "        distance_matrix.at[row['id_start'], row['id_end']] += row['distance']\n",
    "\n",
    "    diagonal_values = distance_matrix.values.diagonal()\n",
    "    distance_matrix = distance_matrix + distance_matrix.T - np.diag(diagonal_values)\n",
    "\n",
    "    return distance_matrix\n",
    "\n",
    "dataset_path = \"D:\\dataset-3.csv\"\n",
    "result_distance_matrix = calculate_distance_matrix(dataset_path)\n",
    "print(result_distance_matrix)\n"
   ]
  },
  {
   "cell_type": "markdown",
   "id": "3690aa2b",
   "metadata": {},
   "source": [
    "# Question 2: Unroll Distance Matrix\n",
    "Create a function unroll_distance_matrix that takes the DataFrame created in Question 1. The resulting DataFrame should have three columns: columns id_start, id_end, and distance.\n",
    "\n",
    "All the combinations except for same id_start to id_end must be present in the rows with their distance values from the input DataFrame."
   ]
  },
  {
   "cell_type": "code",
   "execution_count": 44,
   "id": "241b010b",
   "metadata": {},
   "outputs": [
    {
     "name": "stdout",
     "output_type": "stream",
     "text": [
      "      id_start   id_end  distance\n",
      "0      1001400  1001402      19.4\n",
      "1      1001400  1001404       0.0\n",
      "2      1001400  1001406       0.0\n",
      "3      1001400  1001408       0.0\n",
      "4      1001400  1001410       0.0\n",
      "...        ...      ...       ...\n",
      "1801   1004356  1001470       0.0\n",
      "1802   1004356  1001472       0.0\n",
      "1803   1004356  1001488       8.0\n",
      "1804   1004356  1004354       4.0\n",
      "1805   1004356  1004355       0.0\n",
      "\n",
      "[1806 rows x 3 columns]\n"
     ]
    }
   ],
   "source": [
    "import pandas as pd\n",
    "import numpy as np\n",
    "\n",
    "def unroll_distance_matrix(distance_matrix):\n",
    "    distance_matrix = distance_matrix + distance_matrix.T\n",
    "\n",
    "    mask = ~pd.DataFrame(np.eye(len(distance_matrix), dtype=bool), index=distance_matrix.index, columns=distance_matrix.columns)\n",
    "\n",
    "    unrolled_distances = distance_matrix.stack().reset_index()\n",
    "\n",
    "    unrolled_distances.columns = ['id_start', 'id_end', 'distance']\n",
    "\n",
    "    unrolled_distances = unrolled_distances[mask.stack().values].reset_index(drop=True)\n",
    "\n",
    "    return unrolled_distances\n",
    "\n",
    "unrolled_distances = unroll_distance_matrix(result_distance_matrix)\n",
    "print(unrolled_distances)\n"
   ]
  },
  {
   "cell_type": "markdown",
   "id": "6f375461",
   "metadata": {},
   "source": [
    "# Question 3: Finding IDs within Percentage Threshold¶\n",
    "Create a function find_ids_within_ten_percentage_threshold that takes the DataFrame created in Question 2 and a reference value from the id_start column as an integer.\n",
    "\n",
    "Calculate average distance for the reference value given as an input and return a sorted list of values from id_start column which lie within 10% (including ceiling and floor) of the reference value's average."
   ]
  },
  {
   "cell_type": "code",
   "execution_count": 45,
   "id": "983c9a6b",
   "metadata": {},
   "outputs": [
    {
     "name": "stdout",
     "output_type": "stream",
     "text": [
      "[]\n"
     ]
    }
   ],
   "source": [
    "import pandas as pd\n",
    "import numpy as np\n",
    "\n",
    "def find_ids_within_ten_percentage_threshold(unrolled_distances, reference_value):\n",
    "    average_distance = unrolled_distances[unrolled_distances['id_start'] == reference_value]['distance'].mean()\n",
    "\n",
    "    threshold_lower = average_distance - (average_distance * 0.1)\n",
    "    threshold_upper = average_distance + (average_distance * 0.1)\n",
    "\n",
    "    filtered_ids = sorted(unrolled_distances[(unrolled_distances['distance'] >= threshold_lower) & (unrolled_distances['distance'] <= threshold_upper)]['id_start'].unique())\n",
    "\n",
    "    return filtered_ids\n",
    "\n",
    "# Example Usage:\n",
    "reference_value = 1001400\n",
    "result_question_3 = find_ids_within_ten_percentage_threshold(unrolled_distances, reference_value)\n",
    "print(result_question_3)\n"
   ]
  },
  {
   "cell_type": "code",
   "execution_count": 35,
   "id": "acf162b6",
   "metadata": {},
   "outputs": [
    {
     "name": "stdout",
     "output_type": "stream",
     "text": [
      "[]\n"
     ]
    }
   ],
   "source": []
  },
  {
   "cell_type": "markdown",
   "id": "6137ec33",
   "metadata": {},
   "source": [
    "# Question 4: Calculate Toll Rate\n",
    "Create a function calculate_toll_rate that takes the DataFrame created in Question 2 as input and calculates toll rates based on vehicle types.\n",
    "\n",
    "The resulting DataFrame should add 5 columns to the input DataFrame: moto, car, rv, bus, and truck with their respective rate coefficients. The toll rates should be calculated by multiplying the distance with the given rate coefficients for each vehicle type:"
   ]
  },
  {
   "cell_type": "code",
   "execution_count": 46,
   "id": "a9ca571e",
   "metadata": {},
   "outputs": [
    {
     "name": "stdout",
     "output_type": "stream",
     "text": [
      "      id_start   id_end  distance   moto    car    rv    bus  truck\n",
      "0      1001400  1001402      19.4  15.52  23.28  29.1  42.68  69.84\n",
      "1      1001400  1001404       0.0   0.00   0.00   0.0   0.00   0.00\n",
      "2      1001400  1001406       0.0   0.00   0.00   0.0   0.00   0.00\n",
      "3      1001400  1001408       0.0   0.00   0.00   0.0   0.00   0.00\n",
      "4      1001400  1001410       0.0   0.00   0.00   0.0   0.00   0.00\n",
      "...        ...      ...       ...    ...    ...   ...    ...    ...\n",
      "1801   1004356  1001470       0.0   0.00   0.00   0.0   0.00   0.00\n",
      "1802   1004356  1001472       0.0   0.00   0.00   0.0   0.00   0.00\n",
      "1803   1004356  1001488       8.0   6.40   9.60  12.0  17.60  28.80\n",
      "1804   1004356  1004354       4.0   3.20   4.80   6.0   8.80  14.40\n",
      "1805   1004356  1004355       0.0   0.00   0.00   0.0   0.00   0.00\n",
      "\n",
      "[1806 rows x 8 columns]\n"
     ]
    }
   ],
   "source": [
    "import pandas as pd\n",
    "\n",
    "def calculate_toll_rate(unrolled_distances):\n",
    "    rate_coefficients = {'moto': 0.8, 'car': 1.2, 'rv': 1.5, 'bus': 2.2, 'truck': 3.6}\n",
    "\n",
    "    for vehicle_type in rate_coefficients.keys():\n",
    "        unrolled_distances[vehicle_type] = unrolled_distances['distance'] * rate_coefficients[vehicle_type]\n",
    "\n",
    "    return unrolled_distances\n",
    "\n",
    "toll_rates = calculate_toll_rate(unrolled_distances)\n",
    "print(toll_rates)\n"
   ]
  },
  {
   "cell_type": "markdown",
   "id": "775cc872",
   "metadata": {},
   "source": [
    "# Question 5: Calculate Time-Based Toll Rates"
   ]
  },
  {
   "cell_type": "code",
   "execution_count": 48,
   "id": "269aa3cf",
   "metadata": {},
   "outputs": [
    {
     "name": "stdout",
     "output_type": "stream",
     "text": [
      "      id_start   id_end  distance   moto    car    rv    bus  truck start_day  \\\n",
      "0      1001400  1001402      19.4  15.52  23.28  29.1  42.68  69.84             \n",
      "1      1001400  1001404       0.0   0.00   0.00   0.0   0.00   0.00             \n",
      "2      1001400  1001406       0.0   0.00   0.00   0.0   0.00   0.00             \n",
      "3      1001400  1001408       0.0   0.00   0.00   0.0   0.00   0.00             \n",
      "4      1001400  1001410       0.0   0.00   0.00   0.0   0.00   0.00             \n",
      "...        ...      ...       ...    ...    ...   ...    ...    ...       ...   \n",
      "1801   1004356  1001470       0.0   0.00   0.00   0.0   0.00   0.00             \n",
      "1802   1004356  1001472       0.0   0.00   0.00   0.0   0.00   0.00             \n",
      "1803   1004356  1001488       8.0   6.40   9.60  12.0  17.60  28.80             \n",
      "1804   1004356  1004354       4.0   3.20   4.80   6.0   8.80  14.40             \n",
      "1805   1004356  1004355       0.0   0.00   0.00   0.0   0.00   0.00             \n",
      "\n",
      "     end_day start_time end_time  \n",
      "0                                 \n",
      "1                                 \n",
      "2                                 \n",
      "3                                 \n",
      "4                                 \n",
      "...      ...        ...      ...  \n",
      "1801                              \n",
      "1802                              \n",
      "1803                              \n",
      "1804                              \n",
      "1805                              \n",
      "\n",
      "[1806 rows x 12 columns]\n"
     ]
    }
   ],
   "source": [
    "import pandas as pd\n",
    "\n",
    "def calculate_time_based_toll_rates(toll_rates):\n",
    "    toll_rates['start_day'] = toll_rates['end_day'] = toll_rates['start_time'] = toll_rates['end_time'] = \"\"\n",
    "\n",
    "    time_ranges = {\n",
    "        '00:00:00-10:00:00': 0.8,\n",
    "        '10:00:00-18:00:00': 1.2,\n",
    "        '18:00:00-23:59:59': 0.8,\n",
    "        'weekend': 0.7\n",
    "    }\n",
    "\n",
    "    for time_range, discount_factor in time_ranges.items():\n",
    "        if time_range != 'weekend':\n",
    "            start_time, end_time = time_range.split('-')\n",
    "            mask = toll_rates['start_time'].between(start_time, end_time, inclusive='both')\n",
    "        else:\n",
    "            mask = toll_rates['start_time'] != \"\"\n",
    "\n",
    "        toll_rates.loc[mask, ['start_day', 'end_day', 'start_time', 'end_time']] = ['', '', '', '']\n",
    "        toll_rates.loc[mask, ['moto', 'car', 'rv', 'bus', 'truck']] *= discount_factor\n",
    "\n",
    "    return toll_rates\n",
    "\n",
    "time_based_toll_rates = calculate_time_based_toll_rates(toll_rates)\n",
    "print(time_based_toll_rates)\n"
   ]
  },
  {
   "cell_type": "code",
   "execution_count": null,
   "id": "3fc178a3",
   "metadata": {},
   "outputs": [],
   "source": []
  }
 ],
 "metadata": {
  "kernelspec": {
   "display_name": "Python 3 (ipykernel)",
   "language": "python",
   "name": "python3"
  },
  "language_info": {
   "codemirror_mode": {
    "name": "ipython",
    "version": 3
   },
   "file_extension": ".py",
   "mimetype": "text/x-python",
   "name": "python",
   "nbconvert_exporter": "python",
   "pygments_lexer": "ipython3",
   "version": "3.10.9"
  }
 },
 "nbformat": 4,
 "nbformat_minor": 5
}
